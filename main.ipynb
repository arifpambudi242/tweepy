{
 "cells": [
  {
   "cell_type": "code",
   "execution_count": null,
   "id": "136490e7",
   "metadata": {
    "scrolled": false
   },
   "outputs": [],
   "source": [
    "# %pip install tweepy\n",
    "# %pip install Sastrawi\n",
    "# %pip install numpy\n",
    "# %pip install sklearn\n",
    "# %pip install joblib\n",
    "# %pip install pickle\n",
    "%pip install textblob"
   ]
  },
  {
   "cell_type": "code",
   "execution_count": null,
   "id": "f81aea11",
   "metadata": {},
   "outputs": [],
   "source": [
    "import tweepy \n",
    "\n",
    "BEARERTOKEN = 'AAAAAAAAAAAAAAAAAAAAAJQrYQEAAAAA1BtlexYIrHRZvqkz6TEOraEC%2B0k%3D5cOp6U7ytEMpcTDctDQWVl6HFd0Y28pxhDnTGyHA9KiiC1MVCF'\n",
    "\n",
    "client = tweepy.Client(bearer_token=BEARERTOKEN)\n",
    "\n",
    "query = '\"Ruang Guru\" lang:id'\n",
    "\n",
    "# get data max 100\n",
    "responses = client.search_recent_tweets(query=query, max_results=100, tweet_fields=['created_at'])\n",
    "tweet100 = [tweet for tweet in responses.data]\n",
    "\n",
    "# get max 1000\n",
    "tweettexts = [{'id' : tweet.id, 'text' :tweet.text} for tweet in tweepy.Paginator(client.search_recent_tweets, query=query, max_results=100).flatten(limit=1000)]\n"
   ]
  },
  {
   "cell_type": "code",
   "execution_count": 7,
   "id": "8675ce65",
   "metadata": {},
   "outputs": [],
   "source": [
    "import re\n",
    "import sys\n",
    "\n",
    "def Cleansing(tweet):\n",
    "    # remove old style retweet text \"RT\"\n",
    "    new_tweet = re.sub(r'RT\\s', '', tweet)\n",
    "    \n",
    "    # hilangkan username\n",
    "    new_tweet = re.sub(r'^@*[A-Za-z0-9]+', '', new_tweet)\n",
    "    \n",
    "    \n",
    "    # remove hyperlinks\n",
    "    new_tweet = re.sub(r'https?:\\/\\/.*[\\r\\n]*', '', new_tweet)\n",
    "\n",
    "    # remove hashtags\n",
    "    # only removing the hash # sign from the word\n",
    "    new_tweet = re.sub(r'^@*[A-Za-z0-9]+', '', new_tweet)\n",
    "\n",
    "    new_tweet = re.sub(\"[^A-Za-z\" \"]+\", \" \", new_tweet)\n",
    "    \n",
    "    return new_tweet.strip().lower()\n",
    "\n",
    "cleantweets = []\n",
    "for tweet in tweettexts:\n",
    "    tweet = Cleansing(tweet['text'])\n",
    "    cleantweets.append(tweet)"
   ]
  },
  {
   "cell_type": "code",
   "execution_count": null,
   "id": "738026a0",
   "metadata": {},
   "outputs": [],
   "source": [
    "# import Sastrawi package\n",
    "from Sastrawi.Stemmer.StemmerFactory import StemmerFactory\n",
    "\n",
    "# create stemmer\n",
    "factory = StemmerFactory()\n",
    "stemmer = factory.create_stemmer()\n",
    "\n",
    "# stem\n",
    "stemmedtexts   = [stemmer.stem(text) for text in cleantweets]"
   ]
  },
  {
   "cell_type": "markdown",
   "id": "f6491872",
   "metadata": {},
   "source": [
    "## Bersih Labeling"
   ]
  },
  {
   "cell_type": "code",
   "execution_count": 10,
   "id": "83da3155",
   "metadata": {},
   "outputs": [],
   "source": [
    "# kata_positif = open('kata_positif.txt', 'r').readlines()\n",
    "kata_negatif = open('kata_negatif.txt', 'r').readlines()\n",
    "\n",
    "with open('kata_negatif_2.txt', 'w') as kat:\n",
    "    for kata in kata_negatif:\n",
    "        kat.write(f'{stemmer.stem(kata)}\\n')\n",
    "    kat.close()\n",
    "\n",
    "\n"
   ]
  }
 ],
 "metadata": {
  "interpreter": {
   "hash": "52a4b9e79417955a917833aecbeda85da23e5d4425d46a7e8f01fbfb1d231587"
  },
  "kernelspec": {
   "display_name": "Python 3.9.12 ('base')",
   "language": "python",
   "name": "python3"
  },
  "language_info": {
   "codemirror_mode": {
    "name": "ipython",
    "version": 3
   },
   "file_extension": ".py",
   "mimetype": "text/x-python",
   "name": "python",
   "nbconvert_exporter": "python",
   "pygments_lexer": "ipython3",
   "version": "3.9.12"
  }
 },
 "nbformat": 4,
 "nbformat_minor": 5
}
