{
 "cells": [
  {
   "cell_type": "markdown",
   "metadata": {},
   "source": [
    "## Install library yang dibutuhkan"
   ]
  },
  {
   "cell_type": "code",
   "execution_count": null,
   "metadata": {},
   "outputs": [],
   "source": [
    "#untuk ambil data twit di twitter \n",
    "%pip install tweepy\n",
    "#proses kata\n",
    "%pip install nltk\n",
    "%pip install Sastrawi\n",
    "#untuk ambil data secret\n",
    "%pip install python-dotenv"
   ]
  },
  {
   "cell_type": "code",
   "execution_count": 3,
   "metadata": {},
   "outputs": [],
   "source": [
    "import tweepy\n",
    "from dotenv import load_dotenv\n",
    "import re\n",
    "import os\n",
    "import string\n",
    "\n",
    "load_dotenv()\n",
    "\n",
    "CUSTOMER_KEY            = os.getenv('CUSTOMER_KEY')\n",
    "API_KEY                 = os.getenv('API_KEY')\n",
    "API_KEY_SECRET          = os.getenv('API_KEY_SECRET')\n",
    "BEARER_TOKEN            = os.getenv('BEARER_TOKEN')\n",
    "ACCESS_TOKEN            = os.getenv('ACCESS_TOKEN')\n",
    "SECRET_TOKEN            = os.getenv('SECRET_TOKEN')\n",
    "\n",
    "client = tweepy.Client(bearer_token=BEARER_TOKEN)"
   ]
  },
  {
   "cell_type": "markdown",
   "metadata": {},
   "source": [
    "## Ambil Tweet dari twitter"
   ]
  },
  {
   "cell_type": "code",
   "execution_count": 17,
   "metadata": {},
   "outputs": [
    {
     "data": {
      "text/plain": [
       "1000"
      ]
     },
     "execution_count": 17,
     "metadata": {},
     "output_type": "execute_result"
    }
   ],
   "source": [
    "query = 'Ruang Guru'\n",
    "# responses = client.search_recent_tweets(query=query, max_results=100)\n",
    "\n",
    "responses = [tweet.data for tweet in tweepy.Paginator(client.search_recent_tweets, query=query, max_results=100).flatten(1000)]\n",
    "\n",
    "# tweets = [{'id' : tweet.id, 'text' : tweet.text.lower()} for tweet in responses.data]\n",
    "tweets = [tweet for tweet in responses]\n",
    "len(tweets)"
   ]
  },
  {
   "cell_type": "markdown",
   "metadata": {},
   "source": [
    "## Bersihkan kalimat dari karakter yang tidak diperlukan"
   ]
  },
  {
   "cell_type": "code",
   "execution_count": null,
   "metadata": {},
   "outputs": [],
   "source": [
    "import pandas as pd\n",
    "def cleaning(tweet):\n",
    "    # remove number\n",
    "    new_tweet = re.sub(r\"\\d+\", \"\", tweet)\n",
    "\n",
    "    # remove old style retweet text \"RT\"\n",
    "    new_tweet = re.sub(r'^RT[\\s]+', '', new_tweet)\n",
    "\n",
    "    # remove hyperlinks\n",
    "    new_tweet = re.sub(r'https?:\\/\\/.*[\\r\\n]*', '', new_tweet)\n",
    "\n",
    "    # remove hashtags\n",
    "    # only removing the hash # sign from the word\n",
    "    new_tweet = re.sub(r'#', '', new_tweet)\n",
    "\n",
    "    # remove all the character but huruf\n",
    "    new_tweet = re.sub(\"[^A-Za-z0-9\" \"]+\", \" \", new_tweet)\n",
    "\n",
    "    return new_tweet\n",
    "\n",
    "#Cleaning Text\n",
    "def cleaning(tweet):\n",
    "    #tweet.join((char for char in tweet if char not in string-punctuation])\n",
    "    tweet   = re.sub(r'[a-zA-20-91', '', str(tweet))\n",
    "    tweet   = re.sub(r'\\b\\w{1,2}\\b', '',tweet) # menghilangkan2kata\n",
    "    tweet   = re.sub(r'\\a\\a+',tweet)\n",
    "    return tweet\n",
    "\n",
    "df['151']=df[\"191\"').apply(lambdax:remove_punct(x))"
   ]
  },
  {
   "cell_type": "code",
   "execution_count": null,
   "metadata": {},
   "outputs": [],
   "source": [
    "#remove stopwords\n",
    "\n",
    "from Sastrawi.StopWordRemover.StopWordRemoverFactory import StopWordRemoverFactory\n",
    "factory = StopWordRemoverFactory()\n",
    "stopwords = factory.get_stop_words()"
   ]
  }
 ],
 "metadata": {
  "interpreter": {
   "hash": "dcf67f61d93bb807738c728a2d36bcd352b61f91fdc0746bde934977bba04043"
  },
  "kernelspec": {
   "display_name": "Python 3.9.12 ('base')",
   "language": "python",
   "name": "python3"
  },
  "language_info": {
   "codemirror_mode": {
    "name": "ipython",
    "version": 3
   },
   "file_extension": ".py",
   "mimetype": "text/x-python",
   "name": "python",
   "nbconvert_exporter": "python",
   "pygments_lexer": "ipython3",
   "version": "3.9.12"
  },
  "orig_nbformat": 4
 },
 "nbformat": 4,
 "nbformat_minor": 2
}
